{
  "cells": [
    {
      "cell_type": "code",
      "execution_count": null,
      "metadata": {
        "execution": {
          "iopub.execute_input": "2022-07-28T08:50:16.881184Z",
          "iopub.status.busy": "2022-07-28T08:50:16.880933Z",
          "iopub.status.idle": "2022-07-28T08:50:16.897418Z",
          "shell.execute_reply": "2022-07-28T08:50:16.896387Z",
          "shell.execute_reply.started": "2022-07-28T08:50:16.881152Z"
        },
        "id": "miuFn3kzDLQQ",
        "trusted": true
      },
      "outputs": [],
      "source": [
        "import matplotlib.pyplot as plt\n",
        "import numpy as np\n",
        "import pandas as pd"
      ]
    },
    {
      "cell_type": "markdown",
      "metadata": {
        "id": "9FES5vD1DLQY"
      },
      "source": [
        "# **Loading the Dataset**\n",
        "First we load the dataset and find out the number of columns, rows, NULL values, etc."
      ]
    },
    {
      "cell_type": "markdown",
      "metadata": {
        "id": "cKqrjgDxDLQb"
      },
      "source": [
        "1. Data is from 2009 to 2015\n",
        "2. 200,000 Entries"
      ]
    },
    {
      "cell_type": "code",
      "execution_count": null,
      "metadata": {
        "execution": {
          "iopub.execute_input": "2022-07-28T08:50:16.899574Z",
          "iopub.status.busy": "2022-07-28T08:50:16.899292Z",
          "iopub.status.idle": "2022-07-28T08:50:17.466561Z",
          "shell.execute_reply": "2022-07-28T08:50:17.465661Z",
          "shell.execute_reply.started": "2022-07-28T08:50:16.899541Z"
        },
        "id": "l83g6czKDLQc",
        "outputId": "7cb27492-f244-42ff-d655-933e994a6226",
        "trusted": true
      },
      "outputs": [],
      "source": [
        "uber = pd.read_csv('uber.csv')\n",
        "\n",
        "uber.head()"
      ]
    },
    {
      "cell_type": "code",
      "execution_count": null,
      "metadata": {
        "execution": {
          "iopub.execute_input": "2022-07-28T08:50:17.468469Z",
          "iopub.status.busy": "2022-07-28T08:50:17.468230Z",
          "iopub.status.idle": "2022-07-28T08:50:17.542802Z",
          "shell.execute_reply": "2022-07-28T08:50:17.541975Z",
          "shell.execute_reply.started": "2022-07-28T08:50:17.468439Z"
        },
        "id": "Kg22htUtDLQf",
        "outputId": "5e44efcd-9cae-484a-f714-2292bea245ad",
        "trusted": true
      },
      "outputs": [],
      "source": [
        "uber.info()"
      ]
    },
    {
      "cell_type": "markdown",
      "metadata": {
        "id": "DoDpdx5vDLQg"
      },
      "source": [
        "# **Dropping the NULL values**\n",
        "We will check for NULL values in Dataset"
      ]
    },
    {
      "cell_type": "code",
      "execution_count": null,
      "metadata": {
        "execution": {
          "iopub.execute_input": "2022-07-28T08:50:17.544860Z",
          "iopub.status.busy": "2022-07-28T08:50:17.544590Z",
          "iopub.status.idle": "2022-07-28T08:50:17.599831Z",
          "shell.execute_reply": "2022-07-28T08:50:17.598878Z",
          "shell.execute_reply.started": "2022-07-28T08:50:17.544828Z"
        },
        "id": "t3ur_P9-DLQh",
        "outputId": "2c89bd9b-d4b0-4284-80c2-a8fd4c8dc477",
        "trusted": true
      },
      "outputs": [],
      "source": [
        "uber.isnull().sum()"
      ]
    },
    {
      "cell_type": "markdown",
      "metadata": {
        "id": "PUrayqK9DLQh"
      },
      "source": [
        "Getting rid of first and second column, since key and ID are not useful in predictions."
      ]
    },
    {
      "cell_type": "code",
      "execution_count": null,
      "metadata": {
        "execution": {
          "iopub.execute_input": "2022-07-28T08:50:17.601920Z",
          "iopub.status.busy": "2022-07-28T08:50:17.601663Z",
          "iopub.status.idle": "2022-07-28T08:50:17.657465Z",
          "shell.execute_reply": "2022-07-28T08:50:17.656692Z",
          "shell.execute_reply.started": "2022-07-28T08:50:17.601888Z"
        },
        "id": "kIkvVXhiDLQi",
        "trusted": true
      },
      "outputs": [],
      "source": [
        "uber_2 = uber.drop(['Unnamed: 0','key'],axis=1)\n",
        "uber_2.dropna(axis=0,inplace=True)"
      ]
    },
    {
      "cell_type": "markdown",
      "metadata": {
        "id": "lfmSbXs8DLQj"
      },
      "source": [
        "We have gotten rid of the first two columns and the NULL values"
      ]
    },
    {
      "cell_type": "code",
      "execution_count": null,
      "metadata": {
        "execution": {
          "iopub.execute_input": "2022-07-28T08:50:17.659533Z",
          "iopub.status.busy": "2022-07-28T08:50:17.658900Z",
          "iopub.status.idle": "2022-07-28T08:50:17.694916Z",
          "shell.execute_reply": "2022-07-28T08:50:17.694131Z",
          "shell.execute_reply.started": "2022-07-28T08:50:17.659477Z"
        },
        "id": "uSJD508gDLQj",
        "outputId": "713f34bf-4eaf-4bbb-a872-42c879f634ff",
        "trusted": true
      },
      "outputs": [],
      "source": [
        "uber_2.isnull().sum()\n",
        "#uber_2.describe()"
      ]
    },
    {
      "cell_type": "markdown",
      "metadata": {
        "id": "phWXfaabDLQk"
      },
      "source": [
        "# **Haversine Formula**\n",
        "Calculatin the distance between the pickup and drop co-ordinates using the Haversine formual for accuracy."
      ]
    },
    {
      "cell_type": "markdown",
      "metadata": {
        "id": "8ECV34keDLQl"
      },
      "source": [
        "~~"
      ]
    },
    {
      "cell_type": "code",
      "execution_count": null,
      "metadata": {
        "execution": {
          "iopub.execute_input": "2022-07-28T08:50:17.696531Z",
          "iopub.status.busy": "2022-07-28T08:50:17.696256Z",
          "iopub.status.idle": "2022-07-28T08:50:17.704653Z",
          "shell.execute_reply": "2022-07-28T08:50:17.703181Z",
          "shell.execute_reply.started": "2022-07-28T08:50:17.696470Z"
        },
        "id": "S3jJTcdcDLQm",
        "trusted": true
      },
      "outputs": [],
      "source": [
        "def haversine (lon_1, lon_2, lat_1, lat_2):\n",
        "    \n",
        "    lon_1, lon_2, lat_1, lat_2 = map(np.radians, [lon_1, lon_2, lat_1, lat_2])  #Degrees to Radians\n",
        "    \n",
        "    \n",
        "    diff_lon = lon_2 - lon_1\n",
        "    diff_lat = lat_2 - lat_1\n",
        "    \n",
        "\n",
        "    km = 2 * 6371 * np.arcsin(np.sqrt(np.sin(diff_lat/2.0)**2 + \n",
        "                                      np.cos(lat_1) * np.cos(lat_2) * np.sin(diff_lon/2.0)**2))\n",
        "    \n",
        "    return km"
      ]
    },
    {
      "cell_type": "markdown",
      "metadata": {
        "id": "a7CNnRtDDLQn"
      },
      "source": [
        "Defining the ride distance dataframe."
      ]
    },
    {
      "cell_type": "code",
      "execution_count": null,
      "metadata": {
        "execution": {
          "iopub.execute_input": "2022-07-28T08:50:17.709157Z",
          "iopub.status.busy": "2022-07-28T08:50:17.706416Z",
          "iopub.status.idle": "2022-07-28T08:50:17.745078Z",
          "shell.execute_reply": "2022-07-28T08:50:17.744235Z",
          "shell.execute_reply.started": "2022-07-28T08:50:17.709098Z"
        },
        "id": "-N8zMf0-DLQo",
        "trusted": true
      },
      "outputs": [],
      "source": [
        "uber_2['Distance']= haversine(uber_2['pickup_longitude'],uber_2['dropoff_longitude'],\n",
        "                             uber_2['pickup_latitude'],uber_2['dropoff_latitude'])\n",
        "\n",
        "uber_2['Distance'] = uber_2['Distance'].astype(float).round(2)    # Round-off Optional"
      ]
    },
    {
      "cell_type": "code",
      "execution_count": null,
      "metadata": {
        "execution": {
          "iopub.execute_input": "2022-07-28T08:50:17.746605Z",
          "iopub.status.busy": "2022-07-28T08:50:17.746055Z",
          "iopub.status.idle": "2022-07-28T08:50:17.764153Z",
          "shell.execute_reply": "2022-07-28T08:50:17.763561Z",
          "shell.execute_reply.started": "2022-07-28T08:50:17.746573Z"
        },
        "id": "2qgL9IJ4DLQo",
        "outputId": "ae1b5208-f506-4104-a81d-8a2cf09b8031",
        "trusted": true
      },
      "outputs": [],
      "source": [
        "uber_2.head()"
      ]
    },
    {
      "cell_type": "markdown",
      "metadata": {
        "id": "RL6HQb5ODLQp"
      },
      "source": [
        "# **Scatter Plot**\n",
        "Distance vs Fare Amount"
      ]
    },
    {
      "cell_type": "code",
      "execution_count": null,
      "metadata": {
        "execution": {
          "iopub.execute_input": "2022-07-28T08:50:17.765709Z",
          "iopub.status.busy": "2022-07-28T08:50:17.765080Z",
          "iopub.status.idle": "2022-07-28T08:50:18.355063Z",
          "shell.execute_reply": "2022-07-28T08:50:18.354198Z",
          "shell.execute_reply.started": "2022-07-28T08:50:17.765671Z"
        },
        "id": "VHLkXqv-DLQq",
        "outputId": "9f6daf9d-0fee-4853-9b95-4fd7897d6eea",
        "trusted": true
      },
      "outputs": [],
      "source": [
        "plt.scatter(uber_2['Distance'], uber_2['fare_amount'])\n",
        "plt.xlabel(\"Distance\")\n",
        "plt.ylabel(\"fare_amount\")"
      ]
    },
    {
      "cell_type": "markdown",
      "metadata": {
        "id": "LR4wk2LKDLQ6"
      },
      "source": [
        "# **Outliers** \n",
        "We can get rid of the trips with very large distances that are outliers as well as trips with 0 distance."
      ]
    },
    {
      "cell_type": "code",
      "execution_count": null,
      "metadata": {
        "execution": {
          "iopub.execute_input": "2022-07-28T08:50:18.358196Z",
          "iopub.status.busy": "2022-07-28T08:50:18.357925Z",
          "iopub.status.idle": "2022-07-28T08:50:18.460933Z",
          "shell.execute_reply": "2022-07-28T08:50:18.460088Z",
          "shell.execute_reply.started": "2022-07-28T08:50:18.358163Z"
        },
        "id": "ALg-nLpeDLQ7",
        "trusted": true
      },
      "outputs": [],
      "source": [
        "uber_2.drop(uber_2[uber_2['Distance'] > 60].index, inplace = True)\n",
        "uber_2.drop(uber_2[uber_2['Distance'] == 0].index, inplace = True)\n",
        "uber_2.drop(uber_2[uber_2['fare_amount'] == 0].index, inplace = True)\n",
        "uber_2.drop(uber_2[uber_2['fare_amount'] < 0].index, inplace = True)"
      ]
    },
    {
      "cell_type": "markdown",
      "metadata": {
        "id": "DXaeceMnDLQ8"
      },
      "source": [
        "Also removing rows with non-plausible fare amounts and distance travelled"
      ]
    },
    {
      "cell_type": "code",
      "execution_count": null,
      "metadata": {
        "execution": {
          "iopub.execute_input": "2022-07-28T08:50:18.463183Z",
          "iopub.status.busy": "2022-07-28T08:50:18.462421Z",
          "iopub.status.idle": "2022-07-28T08:50:18.513150Z",
          "shell.execute_reply": "2022-07-28T08:50:18.512161Z",
          "shell.execute_reply.started": "2022-07-28T08:50:18.463137Z"
        },
        "id": "aVa5whs0DLQ8",
        "trusted": true
      },
      "outputs": [],
      "source": [
        "uber_2.drop(uber_2[(uber_2['fare_amount']>100) & (uber_2['Distance']<1)].index, inplace = True )\n",
        "uber_2.drop(uber_2[(uber_2['fare_amount']<100) & (uber_2['Distance']>100)].index, inplace = True )"
      ]
    },
    {
      "cell_type": "code",
      "execution_count": null,
      "metadata": {
        "execution": {
          "iopub.execute_input": "2022-07-28T08:50:18.514899Z",
          "iopub.status.busy": "2022-07-28T08:50:18.514398Z",
          "iopub.status.idle": "2022-07-28T08:50:18.552879Z",
          "shell.execute_reply": "2022-07-28T08:50:18.551998Z",
          "shell.execute_reply.started": "2022-07-28T08:50:18.514856Z"
        },
        "id": "eoEFCbmNDLQ9",
        "outputId": "41039d55-3f04-4e90-b153-06133cec5fb6",
        "trusted": true
      },
      "outputs": [],
      "source": [
        "uber_2.info()"
      ]
    },
    {
      "cell_type": "code",
      "execution_count": null,
      "metadata": {
        "execution": {
          "iopub.execute_input": "2022-07-28T08:50:18.554518Z",
          "iopub.status.busy": "2022-07-28T08:50:18.554187Z",
          "iopub.status.idle": "2022-07-28T08:50:19.188856Z",
          "shell.execute_reply": "2022-07-28T08:50:19.187907Z",
          "shell.execute_reply.started": "2022-07-28T08:50:18.554465Z"
        },
        "id": "QmgfJgVfDLQ-",
        "outputId": "f4fe1740-7453-4308-824a-93b97c0e53f1",
        "trusted": true
      },
      "outputs": [],
      "source": [
        "plt.scatter(uber_2['Distance'], uber_2['fare_amount'])\n",
        "plt.xlabel(\"Distance\")\n",
        "plt.ylabel(\"fare_amount\")"
      ]
    },
    {
      "cell_type": "markdown",
      "metadata": {
        "id": "-0jTgSNpDLQ-"
      },
      "source": [
        "Now the scatter plot is looking more suitable."
      ]
    },
    {
      "cell_type": "markdown",
      "metadata": {
        "id": "7o3pm8aHDLQ_"
      },
      "source": [
        "# **Date and Time**\n",
        "Separating the date and time into separate columns for more usability."
      ]
    },
    {
      "cell_type": "code",
      "execution_count": null,
      "metadata": {
        "execution": {
          "iopub.execute_input": "2022-07-28T08:50:19.190503Z",
          "iopub.status.busy": "2022-07-28T08:50:19.190154Z",
          "iopub.status.idle": "2022-07-28T08:50:47.773263Z",
          "shell.execute_reply": "2022-07-28T08:50:47.772377Z",
          "shell.execute_reply.started": "2022-07-28T08:50:19.190447Z"
        },
        "id": "BCHCpHqyDLQ_",
        "trusted": true
      },
      "outputs": [],
      "source": [
        "uber_2['pickup_datetime'] = pd.to_datetime(uber_2['pickup_datetime'])\n",
        "\n",
        "uber_2['Year'] = uber_2['pickup_datetime'].apply(lambda time: time.year)\n",
        "uber_2['Month'] = uber_2['pickup_datetime'].apply(lambda time: time.month)\n",
        "uber_2['Day'] = uber_2['pickup_datetime'].apply(lambda time: time.day)\n",
        "uber_2['Day of Week'] = uber_2['pickup_datetime'].apply(lambda time: time.dayofweek)\n",
        "uber_2['Day of Week_num'] = uber_2['pickup_datetime'].apply(lambda time: time.dayofweek)\n",
        "uber_2['Hour'] = uber_2['pickup_datetime'].apply(lambda time: time.hour)\n",
        "\n",
        "day_map = {0:'Mon',1:'Tue',2:'Wed',3:'Thu',4:'Fri',5:'Sat',6:'Sun'}\n",
        "uber_2['Day of Week'] = uber_2['Day of Week'].map(day_map)\n",
        "\n",
        "uber_2['counter'] = 1"
      ]
    },
    {
      "cell_type": "markdown",
      "metadata": {
        "id": "vDIRXocMDLRA"
      },
      "source": [
        "# **Pickup and Dropoff Columns**\n",
        "Creating separate coumns for pickup and droppoff coordinates for more usability."
      ]
    },
    {
      "cell_type": "code",
      "execution_count": null,
      "metadata": {
        "execution": {
          "iopub.execute_input": "2022-07-28T08:50:47.774719Z",
          "iopub.status.busy": "2022-07-28T08:50:47.774424Z",
          "iopub.status.idle": "2022-07-28T08:50:48.648326Z",
          "shell.execute_reply": "2022-07-28T08:50:48.647591Z",
          "shell.execute_reply.started": "2022-07-28T08:50:47.774689Z"
        },
        "id": "tPoyR-GHDLRB",
        "trusted": true
      },
      "outputs": [],
      "source": [
        "uber_2['pickup'] = uber_2['pickup_latitude'].astype(str) + \",\" + uber_2['pickup_longitude'].astype(str)   \n",
        "uber_2['drop off'] = uber_2['dropoff_latitude'].astype(str) + \",\" + uber_2['dropoff_longitude'].astype(str)"
      ]
    },
    {
      "cell_type": "code",
      "execution_count": null,
      "metadata": {
        "execution": {
          "iopub.execute_input": "2022-07-28T08:50:48.649971Z",
          "iopub.status.busy": "2022-07-28T08:50:48.649726Z",
          "iopub.status.idle": "2022-07-28T08:50:48.671556Z",
          "shell.execute_reply": "2022-07-28T08:50:48.670550Z",
          "shell.execute_reply.started": "2022-07-28T08:50:48.649941Z"
        },
        "id": "wtYMZPLNDLRC",
        "outputId": "6459868e-6ae3-44ed-e457-eb0689c69347",
        "trusted": true
      },
      "outputs": [],
      "source": [
        "uber_2.head()"
      ]
    },
    {
      "cell_type": "markdown",
      "metadata": {
        "id": "fHPQxIZwDLRD"
      },
      "source": [
        "Thus, we have increased the usability of the dataset."
      ]
    },
    {
      "cell_type": "markdown",
      "metadata": {
        "id": "mOb-hxAcDLRD"
      },
      "source": [
        "# **Data Visualizations**\n",
        "Finding the trends in the data variables"
      ]
    },
    {
      "cell_type": "markdown",
      "metadata": {
        "id": "qfc7BJbrDLRD"
      },
      "source": [
        "# **Average Yearly Trips**\n"
      ]
    },
    {
      "cell_type": "code",
      "execution_count": null,
      "metadata": {
        "execution": {
          "iopub.execute_input": "2022-07-28T08:50:48.673816Z",
          "iopub.status.busy": "2022-07-28T08:50:48.673045Z",
          "iopub.status.idle": "2022-07-28T08:50:48.898637Z",
          "shell.execute_reply": "2022-07-28T08:50:48.897567Z",
          "shell.execute_reply.started": "2022-07-28T08:50:48.673761Z"
        },
        "id": "h2PE_lmADLRD",
        "outputId": "4768a971-fd3b-40d6-ff6c-f87548da9d95",
        "trusted": true
      },
      "outputs": [],
      "source": [
        "no_of_trips = []\n",
        "year = [2009, 2010, 2011, 2012, 2013, 2014, 2015]\n",
        "\n",
        "colors = ['#1f77b4', '#ff7f0e', '#2ca02c', '#d62728', '#9467bd',\n",
        "          '#8c564b', '#e377c2', '#7f7f7f', '#bcbd22', '#17becf']\n",
        "\n",
        "for i in range(2009, 2016):\n",
        "    x = uber_2.loc[uber_2['Year'] == i, 'counter'].sum()\n",
        "    no_of_trips.append(x)\n",
        "\n",
        "print(\"Average trips a year: \")\n",
        "print(year, no_of_trips)\n",
        "\n",
        "plt.bar(year, no_of_trips, color=colors)"
      ]
    },
    {
      "cell_type": "markdown",
      "metadata": {
        "id": "88DbvPtXDLRE"
      },
      "source": [
        "# **Average Monthly Trips**"
      ]
    },
    {
      "cell_type": "code",
      "execution_count": null,
      "metadata": {
        "execution": {
          "iopub.execute_input": "2022-07-28T08:50:48.900269Z",
          "iopub.status.busy": "2022-07-28T08:50:48.900025Z",
          "iopub.status.idle": "2022-07-28T08:50:49.149506Z",
          "shell.execute_reply": "2022-07-28T08:50:49.148630Z",
          "shell.execute_reply.started": "2022-07-28T08:50:48.900238Z"
        },
        "id": "U9qbvcFEDLRF",
        "outputId": "aba3aae3-5712-4d90-a5c9-0b6452786b80",
        "trusted": true
      },
      "outputs": [],
      "source": [
        "no_of_trips = []\n",
        "month = ['Jan', 'Feb', 'Mar', 'Apr', 'May', 'Jun', 'Jul', 'Aug', 'Sep', 'Oct', 'Nov', 'Dec']\n",
        "\n",
        "colors = ['#1f77b4', '#ff7f0e', '#2ca02c', '#d62728', '#9467bd',\n",
        "          '#8c564b', '#e377c2', '#7f7f7f', '#bcbd22', '#17becf']\n",
        "\n",
        "for i in range(1, 13):\n",
        "    x = uber_2.loc[uber_2['Month'] == i, 'counter'].sum()\n",
        "    no_of_trips.append(x)\n",
        "\n",
        "print(\"Average trips a Month: \")\n",
        "print(month, no_of_trips)\n",
        "\n",
        "plt.bar(month, no_of_trips, color=colors)"
      ]
    },
    {
      "cell_type": "markdown",
      "metadata": {
        "id": "_VwOqN-wDLRF"
      },
      "source": [
        "# **Average Daily Trips**"
      ]
    },
    {
      "cell_type": "code",
      "execution_count": null,
      "metadata": {
        "execution": {
          "iopub.execute_input": "2022-07-28T08:50:49.151020Z",
          "iopub.status.busy": "2022-07-28T08:50:49.150809Z",
          "iopub.status.idle": "2022-07-28T08:50:49.359593Z",
          "shell.execute_reply": "2022-07-28T08:50:49.358656Z",
          "shell.execute_reply.started": "2022-07-28T08:50:49.150994Z"
        },
        "id": "4_olAVciDLRG",
        "outputId": "3d86d34c-1dd4-4780-b993-68cf2e9c61c5",
        "trusted": true
      },
      "outputs": [],
      "source": [
        "no_of_trips = []\n",
        "day = ['Mon', 'Tue', 'Wed', 'Thu', 'Fri', 'Sat', 'Sun']\n",
        "\n",
        "colors = ['#1f77b4', '#ff7f0e', '#2ca02c', '#d62728', '#9467bd',\n",
        "          '#8c564b', '#e377c2', '#7f7f7f', '#bcbd22', '#17becf']\n",
        "\n",
        "for i in range(0, 7):\n",
        "    x = uber_2.loc[uber_2['Day of Week_num'] == i, 'counter'].sum()\n",
        "    no_of_trips.append(x)\n",
        "\n",
        "print(\"Average trips by Days: \")\n",
        "print(day, no_of_trips)\n",
        "\n",
        "plt.bar(day, no_of_trips, color=colors)"
      ]
    },
    {
      "cell_type": "markdown",
      "metadata": {
        "id": "lOOu2BKHDLRG"
      },
      "source": [
        "# **Rides vs Time**\n",
        "Relation between average number of rides over a period of time."
      ]
    },
    {
      "cell_type": "code",
      "execution_count": null,
      "metadata": {
        "execution": {
          "iopub.execute_input": "2022-07-28T08:50:49.361323Z",
          "iopub.status.busy": "2022-07-28T08:50:49.360987Z",
          "iopub.status.idle": "2022-07-28T08:50:49.632107Z",
          "shell.execute_reply": "2022-07-28T08:50:49.631168Z",
          "shell.execute_reply.started": "2022-07-28T08:50:49.361278Z"
        },
        "id": "qKGXq0FtDLRG",
        "outputId": "233049ae-a1c7-42db-8f8c-1da23817d091",
        "trusted": true
      },
      "outputs": [],
      "source": [
        "year_vs_trips = uber_2.groupby(['Year','Month']).agg( \n",
        "    no_of_trips = ('counter','count'),\n",
        "    Average_fair = ('fare_amount','mean'),\n",
        "    Total_fair = ('fare_amount','sum'),\n",
        "    Avg_distance = ( 'Distance', 'mean')).reset_index()\n",
        "\n",
        "year_vs_trips['avg_no_of_trips'] = year_vs_trips['no_of_trips']/30\n",
        "year_vs_trips['month_year'] = year_vs_trips['Month'].astype(str) +\", \"+ year_vs_trips['Year'].astype(str)\n",
        "\n",
        "\n",
        "year_vs_trips = year_vs_trips.reset_index()\n",
        "\n",
        "year_vs_trips.head()\n",
        "\n",
        "\n",
        "year_vs_trips.plot(kind='line',x='month_year',y='no_of_trips', xlabel='January, 2009 - June, 2015',\n",
        "    ylabel='No of Trips', title='No of trips vs Months')"
      ]
    },
    {
      "cell_type": "markdown",
      "metadata": {
        "id": "T7OGdnK6DLRH"
      },
      "source": [
        "# **Heat-Map**\n",
        "A heat map to illustrate at what time of day and week, people are using Uber the most."
      ]
    },
    {
      "cell_type": "code",
      "execution_count": null,
      "metadata": {
        "execution": {
          "iopub.execute_input": "2022-07-28T08:50:49.633865Z",
          "iopub.status.busy": "2022-07-28T08:50:49.633628Z",
          "iopub.status.idle": "2022-07-28T08:50:50.241460Z",
          "shell.execute_reply": "2022-07-28T08:50:50.240088Z",
          "shell.execute_reply.started": "2022-07-28T08:50:49.633837Z"
        },
        "id": "lu2KbqJuDLRH",
        "trusted": true
      },
      "outputs": [],
      "source": [
        "import seaborn as sns\n",
        "\n",
        "df_1 = uber_2[['Distance', 'Day of Week_num', 'Hour']].copy()\n",
        "\n",
        "df_h = df_1.copy()\n",
        "\n",
        "df_h = df_h.groupby(['Hour', 'Day of Week_num']).mean()\n",
        "df_h = df_h.unstack(level=0)"
      ]
    },
    {
      "cell_type": "code",
      "execution_count": null,
      "metadata": {
        "execution": {
          "iopub.execute_input": "2022-07-28T08:50:50.244527Z",
          "iopub.status.busy": "2022-07-28T08:50:50.243882Z",
          "iopub.status.idle": "2022-07-28T08:50:50.879031Z",
          "shell.execute_reply": "2022-07-28T08:50:50.878157Z",
          "shell.execute_reply.started": "2022-07-28T08:50:50.244474Z"
        },
        "id": "gKgAiWYuDLRH",
        "outputId": "37159a9b-7bb8-4991-b942-353285b50f4f",
        "trusted": true
      },
      "outputs": [],
      "source": [
        "fig, ax = plt.subplots(figsize=(24, 7))\n",
        "sns.heatmap(df_h, cmap=\"Reds\",\n",
        "           linewidth=0.3, cbar_kws={\"shrink\": .8})\n",
        "\n",
        "xticks_labels = ['12 AM', '01 AM', '02 AM ', '03 AM ', '04 AM ', '05 AM ', '06 AM ', '07 AM ', \n",
        "                 '08 AM ', '09 AM ', '10 AM ', '11 AM ', '12 PM ', '01 PM ', '02 PM ', '03 PM ',\n",
        "                 '04 PM ', '05 PM ', '06 PM ', '07 PM ', '08 PM ', '09 PM ', '10 PM ', '11 PM ']\n",
        "\n",
        "yticks_labels = ['Mon','Tue','Wed','Thu','Fri','Sat','Sun']\n",
        "\n",
        "plt.xticks(np.arange(24) + .5, labels=xticks_labels)\n",
        "plt.yticks(np.arange(7) + .5, labels=yticks_labels)\n",
        "\n",
        "ax.xaxis.tick_top()\n",
        "\n",
        "title = 'Weekly Uber Rides'.upper()\n",
        "plt.title(title, fontdict={'fontsize': 25})\n",
        "\n",
        "plt.show()"
      ]
    },
    {
      "cell_type": "code",
      "execution_count": null,
      "metadata": {
        "execution": {
          "iopub.execute_input": "2022-07-28T08:50:50.880727Z",
          "iopub.status.busy": "2022-07-28T08:50:50.880447Z",
          "iopub.status.idle": "2022-07-28T08:50:51.851946Z",
          "shell.execute_reply": "2022-07-28T08:50:51.851054Z",
          "shell.execute_reply.started": "2022-07-28T08:50:50.880697Z"
        },
        "id": "VU_sE_75DLRI",
        "outputId": "c823363c-d830-4b29-c2a0-294fa3b07d96",
        "trusted": true
      },
      "outputs": [],
      "source": [
        "plt.figure(figsize=[8,4])\n",
        "sns.distplot(uber_2['fare_amount'], color='g',hist_kws=dict(edgecolor=\"black\", linewidth=2), bins=30)\n",
        "plt.title('Target Variable Distribution')\n",
        "plt.show()"
      ]
    },
    {
      "cell_type": "markdown",
      "metadata": {
        "id": "lsR8TE5iDLRJ"
      },
      "source": [
        "# **Statistics**\n",
        "Some general statistical information about the data"
      ]
    },
    {
      "cell_type": "markdown",
      "metadata": {
        "id": "Y3mJB4tMDLRJ"
      },
      "source": [
        "**Fare Amount**"
      ]
    },
    {
      "cell_type": "code",
      "execution_count": null,
      "metadata": {
        "execution": {
          "iopub.execute_input": "2022-07-28T08:50:51.853474Z",
          "iopub.status.busy": "2022-07-28T08:50:51.853256Z",
          "iopub.status.idle": "2022-07-28T08:50:52.999421Z",
          "shell.execute_reply": "2022-07-28T08:50:52.998322Z",
          "shell.execute_reply.started": "2022-07-28T08:50:51.853448Z"
        },
        "id": "mutxwOghDLRK",
        "outputId": "160b24c1-9a9b-461b-b7b6-d661b8890816",
        "trusted": true
      },
      "outputs": [],
      "source": [
        "import statistics as st\n",
        "\n",
        "print(\"Mean of fare prices is % s \"\n",
        "         % (st.mean(uber_2['fare_amount'])))\n",
        "\n",
        "print(\"Median of fare prices is % s \"\n",
        "         % (st.median(uber_2['fare_amount'])))\n",
        "\n",
        "print(\"Standard Deviation of Fare Prices is % s \"\n",
        "                % (st.stdev(uber_2['fare_amount'])))"
      ]
    },
    {
      "cell_type": "markdown",
      "metadata": {
        "id": "cdHWMeaADLRL"
      },
      "source": [
        "**Distance**"
      ]
    },
    {
      "cell_type": "code",
      "execution_count": null,
      "metadata": {
        "execution": {
          "iopub.execute_input": "2022-07-28T08:50:53.000828Z",
          "iopub.status.busy": "2022-07-28T08:50:53.000567Z",
          "iopub.status.idle": "2022-07-28T08:50:54.198438Z",
          "shell.execute_reply": "2022-07-28T08:50:54.197567Z",
          "shell.execute_reply.started": "2022-07-28T08:50:53.000799Z"
        },
        "id": "jZETQmXtDLRM",
        "outputId": "ebbb030e-c4d7-4d14-afcf-2c8a4980d493",
        "trusted": true
      },
      "outputs": [],
      "source": [
        "import statistics as st\n",
        "\n",
        "print(\"Mean of Distance is % s \"\n",
        "         % (st.mean(uber_2['Distance'])))\n",
        "\n",
        "print(\"Median of Distance is % s \"\n",
        "         % (st.median(uber_2['Distance'])))\n",
        "\n",
        "print(\"Standard Deviation of Distance is % s \"\n",
        "                % (st.stdev(uber_2['Distance'])))"
      ]
    },
    {
      "cell_type": "markdown",
      "metadata": {
        "id": "PtqnXWynDLRN"
      },
      "source": [
        "There is some coorelation between the distance and fare amount. So we will implement our simple linear regression model using these two varaibles"
      ]
    },
    {
      "cell_type": "markdown",
      "metadata": {
        "id": "OUyqWvAbDLRO"
      },
      "source": [
        "# **Standardization**\n",
        "For more accurate results on our linear regression model"
      ]
    },
    {
      "cell_type": "markdown",
      "metadata": {
        "id": "HCcqiv6hDLRO"
      },
      "source": [
        "**Assigning the dependent and independent variable**"
      ]
    },
    {
      "cell_type": "code",
      "execution_count": null,
      "metadata": {
        "execution": {
          "iopub.execute_input": "2022-07-28T09:09:50.404882Z",
          "iopub.status.busy": "2022-07-28T09:09:50.404589Z",
          "iopub.status.idle": "2022-07-28T09:09:50.411998Z",
          "shell.execute_reply": "2022-07-28T09:09:50.411281Z",
          "shell.execute_reply.started": "2022-07-28T09:09:50.404851Z"
        },
        "id": "Pg_7J3tbDLRO",
        "trusted": true
      },
      "outputs": [],
      "source": [
        "X = uber_2['Distance'].values.reshape(-1, 1)        #Independent Variable\n",
        "y = uber_2['fare_amount'].values.reshape(-1, 1)     #Dependent Variable"
      ]
    },
    {
      "cell_type": "code",
      "execution_count": null,
      "metadata": {
        "execution": {
          "iopub.execute_input": "2022-07-28T09:09:50.705284Z",
          "iopub.status.busy": "2022-07-28T09:09:50.704324Z",
          "iopub.status.idle": "2022-07-28T09:09:50.938793Z",
          "shell.execute_reply": "2022-07-28T09:09:50.937840Z",
          "shell.execute_reply.started": "2022-07-28T09:09:50.705223Z"
        },
        "id": "9FBOvViIDLRP",
        "outputId": "cf5735d6-b495-4561-8e74-1b891793200f",
        "trusted": true
      },
      "outputs": [],
      "source": [
        "from sklearn.preprocessing import StandardScaler\n",
        "std = StandardScaler()\n",
        "y_std = std.fit_transform(y)\n",
        "print(y_std)\n",
        "\n",
        "x_std = std.fit_transform(X)\n",
        "print(x_std)"
      ]
    },
    {
      "cell_type": "markdown",
      "metadata": {
        "id": "dgp2cx9uDLRP"
      },
      "source": [
        "# **Splitting the Dataset**\n",
        "Training and Test Set"
      ]
    },
    {
      "cell_type": "code",
      "execution_count": null,
      "metadata": {
        "execution": {
          "iopub.execute_input": "2022-07-28T09:09:51.165947Z",
          "iopub.status.busy": "2022-07-28T09:09:51.165663Z",
          "iopub.status.idle": "2022-07-28T09:09:51.250384Z",
          "shell.execute_reply": "2022-07-28T09:09:51.249276Z",
          "shell.execute_reply.started": "2022-07-28T09:09:51.165919Z"
        },
        "id": "mQPOkbN-DLRQ",
        "trusted": true
      },
      "outputs": [],
      "source": [
        "from sklearn.model_selection import train_test_split\n",
        "X_train, X_test, y_train, y_test = train_test_split(x_std, y_std, test_size=0.2, random_state=0)"
      ]
    },
    {
      "cell_type": "markdown",
      "metadata": {
        "id": "fiIt46heDLRQ"
      },
      "source": [
        "# **Simple Linear Regression**\n",
        "Training the simple linear regression model on the training set"
      ]
    },
    {
      "cell_type": "code",
      "execution_count": null,
      "metadata": {
        "execution": {
          "iopub.execute_input": "2022-07-28T09:09:51.616365Z",
          "iopub.status.busy": "2022-07-28T09:09:51.616071Z",
          "iopub.status.idle": "2022-07-28T09:09:51.724973Z",
          "shell.execute_reply": "2022-07-28T09:09:51.723936Z",
          "shell.execute_reply.started": "2022-07-28T09:09:51.616335Z"
        },
        "id": "pSpAo9srDLRQ",
        "outputId": "ad03905b-2eb6-43a7-8a05-d90bbaf292ff",
        "trusted": true
      },
      "outputs": [],
      "source": [
        "from sklearn.linear_model import LinearRegression\n",
        "l_reg = LinearRegression()\n",
        "l_reg.fit(X_train, y_train)\n",
        "\n",
        "print(\"Training set score: {:.2f}\".format(l_reg.score(X_train, y_train)))\n",
        "print(\"Test set score: {:.7f}\".format(l_reg.score(X_test, y_test)))"
      ]
    },
    {
      "cell_type": "markdown",
      "metadata": {
        "id": "YXcB4WtHDLRR"
      },
      "source": [
        "**Actual vs Predicted Values**"
      ]
    },
    {
      "cell_type": "code",
      "execution_count": null,
      "metadata": {
        "execution": {
          "iopub.execute_input": "2022-07-28T09:09:51.957190Z",
          "iopub.status.busy": "2022-07-28T09:09:51.956448Z",
          "iopub.status.idle": "2022-07-28T09:09:59.478130Z",
          "shell.execute_reply": "2022-07-28T09:09:59.476846Z",
          "shell.execute_reply.started": "2022-07-28T09:09:51.957136Z"
        },
        "id": "0VAz-tbVDLRR",
        "outputId": "3713f385-362d-4368-db2f-31496e4db82b",
        "trusted": true
      },
      "outputs": [],
      "source": [
        "y_pred = l_reg.predict(X_test)\n",
        "df = {'Actual': y_test, 'Predicted': y_pred}\n",
        "\n",
        "from tabulate import tabulate\n",
        "print(tabulate(df, headers = 'keys', tablefmt = 'psql'))"
      ]
    },
    {
      "cell_type": "markdown",
      "metadata": {
        "id": "wNzwHhh5DLRS"
      },
      "source": [
        "# **Accuracy Checking**\n",
        "Finding the MSE,MAE, RMSE, etc."
      ]
    },
    {
      "cell_type": "code",
      "execution_count": null,
      "metadata": {
        "execution": {
          "iopub.execute_input": "2022-07-28T09:09:59.480392Z",
          "iopub.status.busy": "2022-07-28T09:09:59.480129Z",
          "iopub.status.idle": "2022-07-28T09:09:59.489714Z",
          "shell.execute_reply": "2022-07-28T09:09:59.489003Z",
          "shell.execute_reply.started": "2022-07-28T09:09:59.480360Z"
        },
        "id": "piMEIjQLDLRT",
        "outputId": "44215cfc-daa7-4e1d-8ec9-295b513c6fef",
        "trusted": true
      },
      "outputs": [],
      "source": [
        "from sklearn import metrics\n",
        "print('Mean Absolute Error:', metrics.mean_absolute_error(y_test, y_pred))\n",
        "#print('Mean Absolute % Error:', metrics.mean_absolute_percentage_error(y_test, y_pred))\n",
        "print('Mean Squared Error:', metrics.mean_squared_error(y_test, y_pred))\n",
        "print('Root Mean Squared Error:', np.sqrt(metrics.mean_squared_error(y_test, y_pred)))"
      ]
    },
    {
      "cell_type": "markdown",
      "metadata": {
        "id": "Gwas5wrTDLRU"
      },
      "source": [
        "# **Plotting the Graph**"
      ]
    },
    {
      "cell_type": "code",
      "execution_count": null,
      "metadata": {
        "execution": {
          "iopub.execute_input": "2022-07-28T09:09:59.491332Z",
          "iopub.status.busy": "2022-07-28T09:09:59.491113Z",
          "iopub.status.idle": "2022-07-28T09:09:59.500230Z",
          "shell.execute_reply": "2022-07-28T09:09:59.499410Z",
          "shell.execute_reply.started": "2022-07-28T09:09:59.491304Z"
        },
        "id": "sxyYJkQiDLRV",
        "outputId": "28effc91-9a70-49e2-d11b-2d7d3aaeb46c",
        "trusted": true
      },
      "outputs": [],
      "source": [
        "print(l_reg.intercept_)\n",
        "print(l_reg.coef_)"
      ]
    },
    {
      "cell_type": "code",
      "execution_count": null,
      "metadata": {
        "execution": {
          "iopub.execute_input": "2022-07-28T09:09:59.502427Z",
          "iopub.status.busy": "2022-07-28T09:09:59.502139Z",
          "iopub.status.idle": "2022-07-28T09:10:00.194005Z",
          "shell.execute_reply": "2022-07-28T09:10:00.192959Z",
          "shell.execute_reply.started": "2022-07-28T09:09:59.502392Z"
        },
        "id": "PueGSKb7DLRa",
        "outputId": "b26e48b2-b455-4d20-d29f-1e065c947f01",
        "trusted": true
      },
      "outputs": [],
      "source": [
        "plt.subplot(2, 2, 1)\n",
        "plt.scatter(X_train, y_train, color = 'red')\n",
        "plt.plot(X_train, l_reg.predict(X_train), color =\"blue\")\n",
        "plt.title(\"Fare vs Distance (Training Set)\")\n",
        "plt.ylabel(\"fare_amount\")\n",
        "plt.xlabel(\"Distance\")\n",
        "\n",
        "plt.subplot(2, 2, 2)\n",
        "plt.scatter(X_test, y_test, color = 'red')\n",
        "plt.plot(X_train, l_reg.predict(X_train), color =\"blue\")\n",
        "plt.ylabel(\"fare_amount\")\n",
        "plt.xlabel(\"Distance\")\n",
        "plt.title(\"Fare vs Distance (Test Set)\")\n",
        "\n",
        "\n",
        "plt.tight_layout()\n",
        "plt.rcParams[\"figure.figsize\"] = (32,22)\n",
        "plt.show()"
      ]
    }
  ],
  "metadata": {
    "colab": {
      "provenance": []
    },
    "kernelspec": {
      "display_name": "Python 3.10.0 64-bit",
      "language": "python",
      "name": "python3"
    },
    "language_info": {
      "codemirror_mode": {
        "name": "ipython",
        "version": 3
      },
      "file_extension": ".py",
      "mimetype": "text/x-python",
      "name": "python",
      "nbconvert_exporter": "python",
      "pygments_lexer": "ipython3",
      "version": "3.10.0"
    },
    "vscode": {
      "interpreter": {
        "hash": "369f2c481f4da34e4445cda3fffd2e751bd1c4d706f27375911949ba6bb62e1c"
      }
    }
  },
  "nbformat": 4,
  "nbformat_minor": 0
}
