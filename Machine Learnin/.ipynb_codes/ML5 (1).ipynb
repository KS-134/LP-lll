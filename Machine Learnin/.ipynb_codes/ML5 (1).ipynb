{
  "cells": [
    {
      "cell_type": "code",
      "execution_count": null,
      "metadata": {
        "id": "DwFbh_XobycF"
      },
      "outputs": [],
      "source": [
        "#Importing the necessary libraries\n",
        "\n",
        "import numpy as np\n",
        "import pandas as pd\n",
        "import matplotlib.pyplot as plt\n",
        "import seaborn as sns\n",
        "from mpl_toolkits.mplot3d import Axes3D\n",
        "%matplotlib inline\n",
        "\n"
      ]
    },
    {
      "cell_type": "code",
      "execution_count": null,
      "metadata": {
        "id": "jIpg9dtcbycJ"
      },
      "outputs": [],
      "source": [
        "#Reading the excel file\n",
        "\n",
        "data=pd.read_csv(\"Mall_Customers.csv\")"
      ]
    },
    {
      "cell_type": "code",
      "execution_count": null,
      "metadata": {
        "id": "I1iYS_pHbycJ",
        "outputId": "9819f086-6ab2-4755-adf9-69e642e98088"
      },
      "outputs": [],
      "source": [
        "#Number of customers we have\n",
        "\n",
        "print(\"Number of customers we have data for-\" , len(data))"
      ]
    },
    {
      "cell_type": "code",
      "execution_count": null,
      "metadata": {
        "id": "SpJAxrdAbycL",
        "outputId": "8770d30c-3aad-47cd-e3d5-a28adb5ee55a"
      },
      "outputs": [],
      "source": [
        "data.head()"
      ]
    },
    {
      "cell_type": "code",
      "execution_count": null,
      "metadata": {
        "id": "CbCzH9PybycL",
        "outputId": "0d25db26-f2bb-4aa1-c330-19891900dd8c"
      },
      "outputs": [],
      "source": [
        "data.corr()"
      ]
    },
    {
      "cell_type": "markdown",
      "metadata": {
        "id": "TVbnlIKWbycL"
      },
      "source": [
        "# Distribution of data"
      ]
    },
    {
      "cell_type": "code",
      "execution_count": null,
      "metadata": {
        "id": "12IsY17IbycL",
        "outputId": "bd7bceb6-6f6b-41f5-d6a2-5608c7520c54"
      },
      "outputs": [],
      "source": [
        "#Distribution of Annnual Income\n",
        "\n",
        "plt.figure(figsize=(10, 6))\n",
        "sns.set(style = 'whitegrid')\n",
        "sns.distplot(data['Annual Income (k$)'])\n",
        "plt.title('Distribution of Annual Income (k$)', fontsize = 20)\n",
        "plt.xlabel('Range of Annual Income (k$)')\n",
        "plt.ylabel('Count')"
      ]
    },
    {
      "cell_type": "code",
      "execution_count": null,
      "metadata": {
        "id": "GnJyNQOsbycM",
        "outputId": "04ce5ddc-f341-44d7-81b6-875084e1926d"
      },
      "outputs": [],
      "source": [
        "#Distribution of age\n",
        "\n",
        "plt.figure(figsize=(10, 6))\n",
        "sns.set(style = 'whitegrid')\n",
        "sns.distplot(data['Age'])\n",
        "plt.title('Distribution of Age', fontsize = 20)\n",
        "plt.xlabel('Range of Age')\n",
        "plt.ylabel('Count')"
      ]
    },
    {
      "cell_type": "code",
      "execution_count": null,
      "metadata": {
        "id": "S7u5AnbxbycM",
        "outputId": "9ff93ece-d14e-4386-9d38-a51cb994fa69"
      },
      "outputs": [],
      "source": [
        "#Distribution of spending score\n",
        "\n",
        "plt.figure(figsize=(10, 6))\n",
        "sns.set(style = 'whitegrid')\n",
        "sns.distplot(data['Spending Score (1-100)'])\n",
        "plt.title('Distribution of Spending Score (1-100)', fontsize = 20)\n",
        "plt.xlabel('Range of Spending Score (1-100)')\n",
        "plt.ylabel('Count')"
      ]
    },
    {
      "cell_type": "markdown",
      "metadata": {
        "id": "hupmN-kObycN"
      },
      "source": [
        "# Gender Analysis"
      ]
    },
    {
      "cell_type": "code",
      "execution_count": null,
      "metadata": {
        "id": "FhiObp8hbycN",
        "outputId": "ac257d2e-f1b7-4c66-b30b-d9537c4ea054"
      },
      "outputs": [],
      "source": [
        "genders = data.Gender.value_counts()\n",
        "sns.set_style(\"darkgrid\")\n",
        "plt.figure(figsize=(10,4))\n",
        "sns.barplot(x=genders.index, y=genders.values)\n",
        "plt.show()"
      ]
    },
    {
      "cell_type": "code",
      "execution_count": null,
      "metadata": {
        "id": "UGo1tYv2bycN",
        "outputId": "a6dfb192-a1f5-49f8-ca1b-d0160b01c155"
      },
      "outputs": [],
      "source": [
        "plt.figure(figsize=(10,6))\n",
        "sns.scatterplot(x = 'Age' , y = 'Annual Income (k$)' , hue=\"Gender\",data = data  ,s = 60 )\n",
        "plt.xlabel('Age'), plt.ylabel('Annual Income (k$)') \n",
        "plt.title('Age vs Annual Income w.r.t Gender')\n",
        "plt.legend()\n",
        "plt.show()"
      ]
    },
    {
      "cell_type": "code",
      "execution_count": null,
      "metadata": {
        "id": "8Uf3y4PnbycO",
        "outputId": "a085ae77-1e8a-4ca1-c407-47b46699c026"
      },
      "outputs": [],
      "source": [
        "plt.figure(figsize=(10,6))\n",
        "sns.scatterplot(x = 'Annual Income (k$)',y = 'Spending Score (1-100)'  , hue=\"Gender\",data = data  ,s = 60 )\n",
        "plt.xlabel('Annual Income (k$)')\n",
        "plt.ylabel('Spending Score (1-100)') \n",
        "plt.title('Spending Score (1-100) vs Annual Income (k$)')\n",
        "plt.legend()\n",
        "plt.show()"
      ]
    },
    {
      "cell_type": "markdown",
      "metadata": {
        "id": "AyoNdtNcbycO"
      },
      "source": [
        "# Age Buckets"
      ]
    },
    {
      "cell_type": "code",
      "execution_count": null,
      "metadata": {
        "id": "8N4p6BzAbycO",
        "outputId": "eb4981b7-5ce9-405d-bbf2-811fb37a3706"
      },
      "outputs": [],
      "source": [
        "age18_25 = data.Age[(data.Age <= 25) & (data.Age >= 18)]\n",
        "age26_35 = data.Age[(data.Age <= 35) & (data.Age >= 26)]\n",
        "age36_45 = data.Age[(data.Age <= 45) & (data.Age >= 36)]\n",
        "age46_55 = data.Age[(data.Age <= 55) & (data.Age >= 46)]\n",
        "age55above = data.Age[data.Age >= 56]\n",
        "\n",
        "x = [\"18-25\",\"26-35\",\"36-45\",\"46-55\",\"55+\"]\n",
        "y = [len(age18_25.values),len(age26_35.values),len(age36_45.values),len(age46_55.values),len(age55above.values)]\n",
        "\n",
        "plt.figure(figsize=(10,6))\n",
        "sns.barplot(x=x, y=y)\n",
        "plt.title(\"Customer and Ages Barplot\")\n",
        "plt.xlabel(\"Age\")\n",
        "plt.ylabel(\"Number of Customers\")\n",
        "plt.show()"
      ]
    },
    {
      "cell_type": "markdown",
      "metadata": {
        "id": "_L5vCMN2bycP"
      },
      "source": [
        "# Spending Score Buckets"
      ]
    },
    {
      "cell_type": "code",
      "execution_count": null,
      "metadata": {
        "id": "XNvKkh-xbycP",
        "outputId": "abf5aaa3-dd2c-42aa-c01a-a947bbc9a827"
      },
      "outputs": [],
      "source": [
        "ss1_20 = data[\"Spending Score (1-100)\"][(data[\"Spending Score (1-100)\"] >= 1) & (data[\"Spending Score (1-100)\"] <= 20)]\n",
        "ss21_40 = data[\"Spending Score (1-100)\"][(data[\"Spending Score (1-100)\"] >= 21) & (data[\"Spending Score (1-100)\"] <= 40)]\n",
        "ss41_60 = data[\"Spending Score (1-100)\"][(data[\"Spending Score (1-100)\"] >= 41) & (data[\"Spending Score (1-100)\"] <= 60)]\n",
        "ss61_80 = data[\"Spending Score (1-100)\"][(data[\"Spending Score (1-100)\"] >= 61) & (data[\"Spending Score (1-100)\"] <= 80)]\n",
        "ss81_100 = data[\"Spending Score (1-100)\"][(data[\"Spending Score (1-100)\"] >= 81) & (data[\"Spending Score (1-100)\"] <= 100)]\n",
        "\n",
        "score_x = [\"1-20\", \"21-40\", \"41-60\", \"61-80\", \"81-100\"]\n",
        "score_y = [len(ss1_20.values), len(ss21_40.values), len(ss41_60.values), len(ss61_80.values), len(ss81_100.values)]\n",
        "\n",
        "plt.figure(figsize=(10,6))\n",
        "sns.barplot(x=score_x, y=score_y,palette=\"Set2\")\n",
        "plt.title(\"Spending Scores\")\n",
        "plt.xlabel(\"Score\")\n",
        "plt.ylabel(\"Number of Customer Having the Spending Score In That Range\")\n",
        "plt.show()"
      ]
    },
    {
      "cell_type": "markdown",
      "metadata": {
        "id": "FxRzuKYJbycP"
      },
      "source": [
        "# Annual Income (1000 USD)"
      ]
    },
    {
      "cell_type": "code",
      "execution_count": null,
      "metadata": {
        "id": "sxp4l-yrbycP",
        "outputId": "5dfb73aa-f520-4114-b371-369d7a19478b"
      },
      "outputs": [],
      "source": [
        "ai0_30 = data[\"Annual Income (k$)\"][(data[\"Annual Income (k$)\"] >= 0) & (data[\"Annual Income (k$)\"] <= 30)]\n",
        "ai31_60 = data[\"Annual Income (k$)\"][(data[\"Annual Income (k$)\"] >= 31) & (data[\"Annual Income (k$)\"] <= 60)]\n",
        "ai61_90 = data[\"Annual Income (k$)\"][(data[\"Annual Income (k$)\"] >= 61) & (data[\"Annual Income (k$)\"] <= 90)]\n",
        "ai91_120 = data[\"Annual Income (k$)\"][(data[\"Annual Income (k$)\"] >= 91) & (data[\"Annual Income (k$)\"] <= 120)]\n",
        "ai121_150 = data[\"Annual Income (k$)\"][(data[\"Annual Income (k$)\"] >= 121) & (data[\"Annual Income (k$)\"] <= 150)]\n",
        "\n",
        "income_x = [\"$ 0 - 30,000\", \"$ 30,001 - 60,000\", \"$ 60,001 - 90,000\", \"$ 90,001 - 120,000\", \"$ 120,001 - 150,000\"]\n",
        "income_y = [len(ai0_30.values), len(ai31_60.values), len(ai61_90.values), len(ai91_120.values), len(ai121_150.values)]\n",
        "\n",
        "plt.figure(figsize=(15,6))\n",
        "sns.barplot(x=income_x, y=income_y, palette=\"nipy_spectral_r\")\n",
        "plt.title(\"Annual Incomes\")\n",
        "plt.xlabel(\"Income\")\n",
        "plt.ylabel(\"Number of Customer\")\n",
        "plt.show()"
      ]
    },
    {
      "cell_type": "code",
      "execution_count": null,
      "metadata": {
        "id": "QXB3Ke72bycQ"
      },
      "outputs": [],
      "source": [
        "#Taking another look at the data"
      ]
    },
    {
      "cell_type": "code",
      "execution_count": null,
      "metadata": {
        "id": "Um44uPi5bycQ",
        "outputId": "3f593bbe-763a-42b1-e20a-1dcea2ea8ff3"
      },
      "outputs": [],
      "source": [
        "data"
      ]
    },
    {
      "cell_type": "markdown",
      "metadata": {
        "id": "cvvPdZDMbycQ"
      },
      "source": [
        "# Clustering based on 2 features"
      ]
    },
    {
      "cell_type": "code",
      "execution_count": null,
      "metadata": {
        "id": "rVV7sZE0bycQ"
      },
      "outputs": [],
      "source": [
        "#We take just the Annual Income and Spending score\n",
        "df1=data[[\"CustomerID\",\"Gender\",\"Age\",\"Annual Income (k$)\",\"Spending Score (1-100)\"]]\n",
        "\n",
        "X=df1[[\"Annual Income (k$)\",\"Spending Score (1-100)\"]]"
      ]
    },
    {
      "cell_type": "code",
      "execution_count": null,
      "metadata": {
        "id": "ljehPvy-bycR",
        "outputId": "d3499dc5-17d2-43d1-c20a-dc3a39d11df1"
      },
      "outputs": [],
      "source": [
        "#The input data\n",
        "\n",
        "X.head()"
      ]
    },
    {
      "cell_type": "code",
      "execution_count": null,
      "metadata": {
        "id": "amfaoKqhbycR",
        "outputId": "d20b3907-bf34-4167-aaed-2e5a54152cec"
      },
      "outputs": [],
      "source": [
        "#Scatterplot of the input data\n",
        "\n",
        "plt.figure(figsize=(10,6))\n",
        "sns.scatterplot(x = 'Annual Income (k$)',y = 'Spending Score (1-100)',  data = X  ,s = 60 )\n",
        "plt.xlabel('Annual Income (k$)')\n",
        "plt.ylabel('Spending Score (1-100)') \n",
        "plt.title('Spending Score (1-100) vs Annual Income (k$)')\n",
        "plt.show()"
      ]
    },
    {
      "cell_type": "code",
      "execution_count": null,
      "metadata": {
        "id": "LBDV-zYZbycR"
      },
      "outputs": [],
      "source": [
        "#Importing KMeans from sklearn\n",
        "\n",
        "from sklearn.cluster import KMeans"
      ]
    },
    {
      "cell_type": "markdown",
      "metadata": {
        "id": "WRB6zPcQbycS"
      },
      "source": [
        "Now we calculate the Within Cluster Sum of Squared Errors (WSS) for different values of k.\n",
        "Next, we choose the k for which WSS first starts to diminish. "
      ]
    },
    {
      "cell_type": "code",
      "execution_count": null,
      "metadata": {
        "id": "E0umSQWDbycS"
      },
      "outputs": [],
      "source": [
        "wcss=[]\n",
        "\n",
        "for i in range(1,11):\n",
        "    km=KMeans(n_clusters=i)\n",
        "    km.fit(X)\n",
        "    wcss.append(km.inertia_)"
      ]
    },
    {
      "cell_type": "code",
      "execution_count": null,
      "metadata": {
        "id": "QeQATHZNbycS",
        "outputId": "a805d47e-a649-4fa2-9028-c9525ba8414e"
      },
      "outputs": [],
      "source": [
        "\n",
        "#The elbow curve\n",
        "\n",
        "plt.figure(figsize=(12,6))\n",
        "\n",
        "plt.plot(range(1,11),wcss)\n",
        "\n",
        "plt.plot(range(1,11),wcss, linewidth=2, color=\"red\", marker =\"8\")\n",
        "\n",
        "plt.xlabel(\"K Value\")\n",
        "plt.xticks(np.arange(1,11,1))\n",
        "plt.ylabel(\"WCSS\")\n",
        "\n",
        "plt.show()"
      ]
    },
    {
      "cell_type": "code",
      "execution_count": null,
      "metadata": {
        "id": "iUMmkVcibycS"
      },
      "outputs": [],
      "source": [
        "#Taking 5 clusters\n",
        "\n",
        "km1=KMeans(n_clusters=5)"
      ]
    },
    {
      "cell_type": "code",
      "execution_count": null,
      "metadata": {
        "id": "P07fwgyUbycT",
        "outputId": "30dd7173-bc41-4cef-a901-f8cde7d925ff"
      },
      "outputs": [],
      "source": [
        "#Fitting the input data\n",
        "\n",
        "km1.fit(X)"
      ]
    },
    {
      "cell_type": "code",
      "execution_count": null,
      "metadata": {
        "id": "SsFtuNC4bycT"
      },
      "outputs": [],
      "source": [
        "#predicting the labels of the input data\n",
        "\n",
        "y=km1.predict(X)"
      ]
    },
    {
      "cell_type": "code",
      "execution_count": null,
      "metadata": {
        "id": "10jy-AG5bycT"
      },
      "outputs": [],
      "source": [
        "#adding the labels to a column named label\n",
        "\n",
        "df1[\"label\"] = y"
      ]
    },
    {
      "cell_type": "code",
      "execution_count": null,
      "metadata": {
        "id": "-izcn9PlbycT",
        "outputId": "59b19654-b839-409f-c2c3-d3d66d82a798"
      },
      "outputs": [],
      "source": [
        "#The new dataframe with the clustering done\n",
        "\n",
        "df1.head()"
      ]
    },
    {
      "cell_type": "code",
      "execution_count": null,
      "metadata": {
        "id": "cj-FxI7YbycU",
        "outputId": "6c2f35aa-e69a-424d-8702-d6cd9644243c"
      },
      "outputs": [],
      "source": [
        "#Scatterplot of the clusters\n",
        "\n",
        "plt.figure(figsize=(10,6))\n",
        "sns.scatterplot(x = 'Annual Income (k$)',y = 'Spending Score (1-100)',hue=\"label\",  \n",
        "                 palette=['green','orange','brown','dodgerblue','red'], legend='full',data = df1  ,s = 60 )\n",
        "\n",
        "plt.xlabel('Annual Income (k$)')\n",
        "plt.ylabel('Spending Score (1-100)') \n",
        "plt.title('Spending Score (1-100) vs Annual Income (k$)')\n",
        "plt.show()"
      ]
    },
    {
      "cell_type": "markdown",
      "metadata": {
        "id": "XRWWUAyAbycU"
      },
      "source": [
        "Now printing the customer ID according to the groups"
      ]
    },
    {
      "cell_type": "code",
      "execution_count": null,
      "metadata": {
        "id": "2MVnvsDYbycU",
        "outputId": "d26eb871-25df-458b-b124-0c3ad7111913"
      },
      "outputs": [],
      "source": [
        "cust1=df1[df1[\"label\"]==1]\n",
        "print('Number of customer in 1st group=', len(cust1))\n",
        "print('They are -', cust1[\"CustomerID\"].values)\n",
        "print(\"--------------------------------------------\")\n",
        "cust2=df1[df1[\"label\"]==2]\n",
        "print('Number of customer in 2nd group=', len(cust2))\n",
        "print('They are -', cust2[\"CustomerID\"].values)\n",
        "print(\"--------------------------------------------\")\n",
        "cust3=df1[df1[\"label\"]==0]\n",
        "print('Number of customer in 3rd group=', len(cust3))\n",
        "print('They are -', cust3[\"CustomerID\"].values)\n",
        "print(\"--------------------------------------------\")\n",
        "cust4=df1[df1[\"label\"]==3]\n",
        "print('Number of customer in 4th group=', len(cust4))\n",
        "print('They are -', cust4[\"CustomerID\"].values)\n",
        "print(\"--------------------------------------------\")\n",
        "cust5=df1[df1[\"label\"]==4]\n",
        "print('Number of customer in 5th group=', len(cust5))\n",
        "print('They are -', cust5[\"CustomerID\"].values)\n",
        "print(\"--------------------------------------------\")"
      ]
    },
    {
      "cell_type": "markdown",
      "metadata": {
        "id": "mWI3hs7sbycU"
      },
      "source": [
        "# Clustering on the basis of 3D data"
      ]
    },
    {
      "cell_type": "code",
      "execution_count": null,
      "metadata": {
        "id": "CKlg7MOQbycU",
        "outputId": "262b99d7-5719-44bc-d5c0-51ff07d3c4be"
      },
      "outputs": [],
      "source": [
        "#Now we shall take 3 input features\n",
        "\n",
        "df2=data[[\"CustomerID\",\"Gender\",\"Age\",\"Annual Income (k$)\",\"Spending Score (1-100)\"]]\n",
        "df2.head()"
      ]
    },
    {
      "cell_type": "code",
      "execution_count": null,
      "metadata": {
        "id": "qoJfUiSpbycU"
      },
      "outputs": [],
      "source": []
    },
    {
      "cell_type": "code",
      "execution_count": null,
      "metadata": {
        "id": "FR0ZORHhbycV"
      },
      "outputs": [],
      "source": [
        "#Taking the features\n",
        "\n",
        "X2=df2[[\"Age\",\"Annual Income (k$)\",\"Spending Score (1-100)\"]]"
      ]
    },
    {
      "cell_type": "code",
      "execution_count": null,
      "metadata": {
        "id": "KNOIbzkgbycV"
      },
      "outputs": [],
      "source": [
        "#Now we calculate the Within Cluster Sum of Squared Errors (WSS) for different values of k.\n",
        "\n",
        "\n",
        "wcss = []\n",
        "for k in range(1,11):\n",
        "    kmeans = KMeans(n_clusters=k, init=\"k-means++\")\n",
        "    kmeans.fit(X2)\n",
        "    wcss.append(kmeans.inertia_)"
      ]
    },
    {
      "cell_type": "code",
      "execution_count": null,
      "metadata": {
        "id": "u2XzA5TUbycV",
        "outputId": "96670c81-4abc-4727-a2da-3a439174f2c9"
      },
      "outputs": [],
      "source": [
        "plt.figure(figsize=(12,6))    \n",
        "\n",
        "plt.plot(range(1,11),wcss, linewidth=2, color=\"red\", marker =\"8\")\n",
        "plt.xlabel(\"K Value\")\n",
        "plt.xticks(np.arange(1,11,1))\n",
        "plt.ylabel(\"WCSS\")\n",
        "plt.show()"
      ]
    },
    {
      "cell_type": "code",
      "execution_count": null,
      "metadata": {
        "id": "e7oBQXQNbycV"
      },
      "outputs": [],
      "source": [
        "#We choose the k for which WSS starts to diminish\n",
        "\n",
        "km2 = KMeans(n_clusters=5)\n",
        "y2 = km.fit_predict(X2)\n",
        "df2[\"label\"] = y2"
      ]
    },
    {
      "cell_type": "code",
      "execution_count": null,
      "metadata": {
        "id": "JH8vblBdbycV",
        "outputId": "63225437-fe76-43da-acc2-c677edae1eb2"
      },
      "outputs": [],
      "source": [
        "#The new data\n",
        "\n",
        "df2.head()"
      ]
    },
    {
      "cell_type": "code",
      "execution_count": null,
      "metadata": {
        "id": "qPcMjd6fbycV",
        "outputId": "68f73098-0cd5-45c7-cddc-86598cb3ea2a"
      },
      "outputs": [],
      "source": [
        "#3D Plot as we did the clustering on the basis of 3 input features\n",
        "\n",
        "fig = plt.figure(figsize=(20,10))\n",
        "ax = fig.add_subplot(111, projection='3d')\n",
        "ax.scatter(df2.Age[df2.label == 0], df2[\"Annual Income (k$)\"][df2.label == 0], df2[\"Spending Score (1-100)\"][df2.label == 0], c='purple', s=60)\n",
        "ax.scatter(df2.Age[df2.label == 1], df2[\"Annual Income (k$)\"][df2.label == 1], df2[\"Spending Score (1-100)\"][df2.label == 1], c='red', s=60)\n",
        "ax.scatter(df2.Age[df2.label == 2], df2[\"Annual Income (k$)\"][df2.label == 2], df2[\"Spending Score (1-100)\"][df2.label == 2], c='blue', s=60)\n",
        "ax.scatter(df2.Age[df2.label == 3], df2[\"Annual Income (k$)\"][df2.label == 3], df2[\"Spending Score (1-100)\"][df2.label == 3], c='green', s=60)\n",
        "ax.scatter(df2.Age[df2.label == 4], df2[\"Annual Income (k$)\"][df2.label == 4], df2[\"Spending Score (1-100)\"][df2.label == 4], c='yellow', s=60)\n",
        "ax.view_init(35, 185)\n",
        "plt.xlabel(\"Age\")\n",
        "plt.ylabel(\"Annual Income (k$)\")\n",
        "ax.set_zlabel('Spending Score (1-100)')\n",
        "plt.show()"
      ]
    },
    {
      "cell_type": "markdown",
      "metadata": {
        "id": "DiXeEcP8bycW"
      },
      "source": [
        "Now printing the customerID according to the groups."
      ]
    },
    {
      "cell_type": "code",
      "execution_count": null,
      "metadata": {
        "id": "8adI9mdjbycW",
        "outputId": "21ab7e30-c79c-4c0c-c3da-a797f34292b3"
      },
      "outputs": [],
      "source": [
        "cust1=df2[df2[\"label\"]==1]\n",
        "print('Number of customer in 1st group=', len(cust1))\n",
        "print('They are -', cust1[\"CustomerID\"].values)\n",
        "print(\"--------------------------------------------\")\n",
        "cust2=df2[df2[\"label\"]==2]\n",
        "print('Number of customer in 2nd group=', len(cust2))\n",
        "print('They are -', cust2[\"CustomerID\"].values)\n",
        "print(\"--------------------------------------------\")\n",
        "cust3=df2[df2[\"label\"]==0]\n",
        "print('Number of customer in 3rd group=', len(cust3))\n",
        "print('They are -', cust3[\"CustomerID\"].values)\n",
        "print(\"--------------------------------------------\")\n",
        "cust4=df2[df2[\"label\"]==3]\n",
        "print('Number of customer in 4th group=', len(cust4))\n",
        "print('They are -', cust4[\"CustomerID\"].values)\n",
        "print(\"--------------------------------------------\")\n",
        "cust5=df2[df2[\"label\"]==4]\n",
        "print('Number of customer in 5th group=', len(cust5))\n",
        "print('They are -', cust5[\"CustomerID\"].values)\n",
        "print(\"--------------------------------------------\")"
      ]
    }
  ],
  "metadata": {
    "colab": {
      "provenance": []
    },
    "kernelspec": {
      "display_name": "Python 3.10.0 64-bit",
      "language": "python",
      "name": "python3"
    },
    "language_info": {
      "codemirror_mode": {
        "name": "ipython",
        "version": 3
      },
      "file_extension": ".py",
      "mimetype": "text/x-python",
      "name": "python",
      "nbconvert_exporter": "python",
      "pygments_lexer": "ipython3",
      "version": "3.10.0"
    },
    "vscode": {
      "interpreter": {
        "hash": "369f2c481f4da34e4445cda3fffd2e751bd1c4d706f27375911949ba6bb62e1c"
      }
    }
  },
  "nbformat": 4,
  "nbformat_minor": 0
}
