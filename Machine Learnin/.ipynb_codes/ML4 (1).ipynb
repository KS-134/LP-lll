{
  "cells": [
    {
      "cell_type": "code",
      "execution_count": null,
      "metadata": {
        "_cell_guid": "79c7e3d0-c299-4dcb-8224-4455121ee9b0",
        "_uuid": "d629ff2d2480ee46fbb7e2d37f6b5fab8052498a",
        "id": "xW1CgAlOZN8R"
      },
      "outputs": [],
      "source": [
        "from mlxtend.plotting import plot_decision_regions\n",
        "import numpy as np\n",
        "import pandas as pd\n",
        "import matplotlib.pyplot as plt\n",
        "import seaborn as sns\n",
        "sns.set()\n",
        "import warnings\n",
        "warnings.filterwarnings('ignore')\n",
        "%matplotlib inline\n"
      ]
    },
    {
      "cell_type": "code",
      "execution_count": null,
      "metadata": {
        "_uuid": "3977359aa7f65cc9d96fdf0ede4e99116fb314c6",
        "id": "jvYvo1kKZN8c",
        "outputId": "e30bb937-88d3-4dca-94fd-21527c1d56e9"
      },
      "outputs": [],
      "source": [
        "#Loading the dataset\n",
        "diabetes_data = pd.read_csv('diabetes.csv')\n",
        "\n",
        "#Print the first 5 rows of the dataframe.\n",
        "diabetes_data.head()"
      ]
    },
    {
      "cell_type": "markdown",
      "metadata": {
        "_uuid": "e19cd0e1959c38d52ed8c437b42f3ccd61e92fb4",
        "id": "n_PsERLlZN8f"
      },
      "source": [
        "## Basic EDA and statistical analysis\n"
      ]
    },
    {
      "cell_type": "code",
      "execution_count": null,
      "metadata": {
        "_uuid": "650e7357fe6d26e6a557cc3088d9b1147b6093ea",
        "id": "5CmWgmx7ZN8f",
        "outputId": "77fcc010-9530-4dbd-e00d-1d3e1e4c2edc",
        "scrolled": true
      },
      "outputs": [],
      "source": [
        "diabetes_data.info(verbose=True)"
      ]
    },
    {
      "cell_type": "code",
      "execution_count": null,
      "metadata": {
        "_uuid": "0682a8c7acbdb75ad600df7b7cd732f4d5b0a17f",
        "id": "GXA9zRQaZN8w",
        "outputId": "2e4231cb-4c67-43a4-dd8d-7c26f0d9680b"
      },
      "outputs": [],
      "source": [
        "## basic statistic details about the data (note only numerical columns would be displayed here unless parameter include=\"all\")\n",
        "## for reference: https://pandas.pydata.org/pandas-docs/stable/generated/pandas.DataFrame.describe.html#pandas.DataFrame.describe\n",
        "diabetes_data.describe()\n",
        "\n",
        "## Also see :\n",
        "##to return columns of a specific dtype: https://pandas.pydata.org/pandas-docs/stable/generated/pandas.DataFrame.select_dtypes.html#pandas.DataFrame.select_dtypes"
      ]
    },
    {
      "cell_type": "code",
      "execution_count": null,
      "metadata": {
        "_uuid": "de488e0ee803ee6d4084c92df3f548eb6a051d43",
        "id": "yd0meWuCZN8y",
        "outputId": "eace45d6-c749-4f2f-bbc6-3c76bedd7ea2"
      },
      "outputs": [],
      "source": [
        "diabetes_data.describe().T"
      ]
    },
    {
      "cell_type": "code",
      "execution_count": null,
      "metadata": {
        "_uuid": "506fa58605d641694883cad75bb3683dafdb0356",
        "id": "zOiEUzMiZN81",
        "outputId": "c5bfe7c0-6264-48e5-e083-87aa4b8487e1"
      },
      "outputs": [],
      "source": [
        "diabetes_data_copy = diabetes_data.copy(deep = True)\n",
        "diabetes_data_copy[['Glucose','BloodPressure','SkinThickness','Insulin','BMI']] = diabetes_data_copy[['Glucose','BloodPressure','SkinThickness','Insulin','BMI']].replace(0,np.NaN)\n",
        "\n",
        "## showing the count of Nans\n",
        "print(diabetes_data_copy.isnull().sum())"
      ]
    },
    {
      "cell_type": "markdown",
      "metadata": {
        "_uuid": "20bf4545b4d80cd00061d08d3cc2206d0b80f376",
        "id": "-lKZJjlVZN83"
      },
      "source": [
        "#### To fill these Nan values the data distribution needs to be understood"
      ]
    },
    {
      "cell_type": "code",
      "execution_count": null,
      "metadata": {
        "_uuid": "d5ef22db6afea0d63189599fb4abbb2b3f53ccb5",
        "id": "cv89yC8SZN83",
        "outputId": "62c3c09a-1b30-47e4-ae1e-799b2dccb9ed"
      },
      "outputs": [],
      "source": [
        "p = diabetes_data.hist(figsize = (20,20))"
      ]
    },
    {
      "cell_type": "markdown",
      "metadata": {
        "_uuid": "337635cc5b94f7bf6b1a95f5d4043e67604c2c8a",
        "id": "eBBF4WSDZN84"
      },
      "source": [
        "### Aiming to impute nan values for the columns in accordance with their distribution"
      ]
    },
    {
      "cell_type": "code",
      "execution_count": null,
      "metadata": {
        "_uuid": "0568a737f6529e711d3e1ffa5493f0fa749efff3",
        "id": "zlBLs0jAZN84"
      },
      "outputs": [],
      "source": [
        "diabetes_data_copy['Glucose'].fillna(diabetes_data_copy['Glucose'].mean(), inplace = True)\n",
        "diabetes_data_copy['BloodPressure'].fillna(diabetes_data_copy['BloodPressure'].mean(), inplace = True)\n",
        "diabetes_data_copy['SkinThickness'].fillna(diabetes_data_copy['SkinThickness'].median(), inplace = True)\n",
        "diabetes_data_copy['Insulin'].fillna(diabetes_data_copy['Insulin'].median(), inplace = True)\n",
        "diabetes_data_copy['BMI'].fillna(diabetes_data_copy['BMI'].median(), inplace = True)"
      ]
    },
    {
      "cell_type": "markdown",
      "metadata": {
        "_uuid": "1bf99a7a106d92072207b4a5071098ac32c03902",
        "id": "19UiMDpvZN85"
      },
      "source": [
        "## Plotting after Nan removal "
      ]
    },
    {
      "cell_type": "code",
      "execution_count": null,
      "metadata": {
        "_uuid": "6b54f61be1a5b6fc75a90bfdcdfdb1df18a38594",
        "id": "m_oc6HPyZN85",
        "outputId": "9c992896-3e58-40c6-bcf5-c5a1af0fada9"
      },
      "outputs": [],
      "source": [
        "p = diabetes_data_copy.hist(figsize = (20,20))"
      ]
    },
    {
      "cell_type": "code",
      "execution_count": null,
      "metadata": {
        "_uuid": "8322614f5de4888d713c0468a43ae2a3eb1b8862",
        "id": "JlxMpR_WZN87",
        "outputId": "ebbace4c-9593-4bbb-a808-eb52b0e6b550"
      },
      "outputs": [],
      "source": [
        "## observing the shape of the data\n",
        "diabetes_data.shape"
      ]
    },
    {
      "cell_type": "code",
      "execution_count": null,
      "metadata": {
        "_uuid": "c69e3cf2bce422520047daa7b02b688e42c197e4",
        "id": "gyj99hYXZN88",
        "outputId": "23c8064a-43e4-4b6a-e9bf-b09f245ee5ef"
      },
      "outputs": [],
      "source": [
        "## data type analysis\n",
        "#plt.figure(figsize=(5,5))\n",
        "#sns.set(font_scale=2)\n",
        "sns.countplot(y=diabetes_data.dtypes ,data=diabetes_data)\n",
        "plt.xlabel(\"count of each data type\")\n",
        "plt.ylabel(\"data types\")\n",
        "plt.show()"
      ]
    },
    {
      "cell_type": "code",
      "execution_count": null,
      "metadata": {
        "_uuid": "1d5a4e88b691d25e8c661e3e292f5d81d33c576e",
        "id": "fB0ODWoDZN89",
        "outputId": "257c06a5-5b07-4fac-ba48-203fa3f056be"
      },
      "outputs": [],
      "source": [
        "## null count analysis\n",
        "import missingno as msno\n",
        "p=msno.bar(diabetes_data)\n"
      ]
    },
    {
      "cell_type": "code",
      "execution_count": null,
      "metadata": {
        "_uuid": "009e21b28bb9fcb64bd0b841d0aa09597b9bbea8",
        "id": "JwVhrpEOZN8-",
        "outputId": "852dbeea-5e4d-4e9a-e627-b1e91233c51b"
      },
      "outputs": [],
      "source": [
        "## checking the balance of the data by plotting the count of outcomes by their value\n",
        "color_wheel = {1: \"#0392cf\", \n",
        "               2: \"#7bc043\"}\n",
        "colors = diabetes_data[\"Outcome\"].map(lambda x: color_wheel.get(x + 1))\n",
        "print(diabetes_data.Outcome.value_counts())\n",
        "p=diabetes_data.Outcome.value_counts().plot(kind=\"bar\")\n"
      ]
    },
    {
      "cell_type": "markdown",
      "metadata": {
        "_uuid": "87dc25ce0f9036237af2b8fb8560d7ba575df22c",
        "id": "_sgktyd3ZN8_"
      },
      "source": [
        "#### Scatter matrix of uncleaned data"
      ]
    },
    {
      "cell_type": "markdown",
      "metadata": {
        "_uuid": "47a5993e4001d4ffc0ddf2dd59740045048ba738",
        "id": "mt6saH5hZN9A"
      },
      "source": [
        "#### Pair plot for clean data"
      ]
    },
    {
      "cell_type": "code",
      "execution_count": null,
      "metadata": {
        "_uuid": "3adefc9ab47271b11f13687a245df6ced9f1b312",
        "id": "pCluRkAYZN9A",
        "outputId": "9641cb92-d000-42c7-9524-cf0d987d8ed3"
      },
      "outputs": [],
      "source": [
        "p=sns.pairplot(diabetes_data_copy, hue = 'Outcome')"
      ]
    },
    {
      "cell_type": "markdown",
      "metadata": {
        "_uuid": "9dbea8e64dd833ce466c5d0585f4d8ad5bbfe8ff",
        "id": "ERh-5W_kZN9C"
      },
      "source": [
        "#### Heatmap for unclean data"
      ]
    },
    {
      "cell_type": "code",
      "execution_count": null,
      "metadata": {
        "_uuid": "2971ad528058ac82e54eec7b42b814644cef4195",
        "id": "vMoQuaH4ZN9C",
        "outputId": "7a06b95f-91ca-4d0a-99aa-fb2c122b2b95"
      },
      "outputs": [],
      "source": [
        "plt.figure(figsize=(12,10))  # on this line I just set the size of figure to 12 by 10.\n",
        "p=sns.heatmap(diabetes_data.corr(), annot=True,cmap ='RdYlGn')  # seaborn has very simple solution for heatmap"
      ]
    },
    {
      "cell_type": "markdown",
      "metadata": {
        "_uuid": "a97ddd37b576e90c5cc192bd8ab46a4d44c960af",
        "id": "LubYequWZN9D"
      },
      "source": [
        "#### Heatmap for clean data"
      ]
    },
    {
      "cell_type": "code",
      "execution_count": null,
      "metadata": {
        "_uuid": "0b000ace1a6558c57c0b485c66a5bdb84063174b",
        "id": "b-hu_bteZN9D",
        "outputId": "55744b2c-888c-465b-dd92-1bdf9da96c4f"
      },
      "outputs": [],
      "source": [
        "plt.figure(figsize=(12,10))  # on this line I just set the size of figure to 12 by 10.\n",
        "p=sns.heatmap(diabetes_data_copy.corr(), annot=True,cmap ='RdYlGn')  # seaborn has very simple solution for heatmap"
      ]
    },
    {
      "cell_type": "code",
      "execution_count": null,
      "metadata": {
        "_uuid": "2cf6c9ff22d3a7af35e399406e7565055ca6af36",
        "id": "Yp0lU1tEZN9F"
      },
      "outputs": [],
      "source": [
        "from sklearn.preprocessing import StandardScaler\n",
        "sc_X = StandardScaler()\n",
        "X =  pd.DataFrame(sc_X.fit_transform(diabetes_data_copy.drop([\"Outcome\"],axis = 1),),\n",
        "        columns=['Pregnancies', 'Glucose', 'BloodPressure', 'SkinThickness', 'Insulin',\n",
        "       'BMI', 'DiabetesPedigreeFunction', 'Age'])"
      ]
    },
    {
      "cell_type": "code",
      "execution_count": null,
      "metadata": {
        "_uuid": "e10c79fe13861fb0fbe714c977f93bb8ed90a5fd",
        "id": "KKN8PF6CZN9H",
        "outputId": "2300c7e9-2104-4392-813b-951ce48fdee7"
      },
      "outputs": [],
      "source": [
        "X.head()"
      ]
    },
    {
      "cell_type": "code",
      "execution_count": null,
      "metadata": {
        "_uuid": "9d9bd9ecd9612fb32f0629a8a3c0a85a14b034cf",
        "id": "a8yW5U0XZN9H"
      },
      "outputs": [],
      "source": [
        "#X = diabetes_data.drop(\"Outcome\",axis = 1)\n",
        "y = diabetes_data_copy.Outcome"
      ]
    },
    {
      "cell_type": "code",
      "execution_count": null,
      "metadata": {
        "_uuid": "f14c88ae0a061de30566d336608d195ba89993d9",
        "id": "4NXANBkvZN9J"
      },
      "outputs": [],
      "source": [
        "#importing train_test_split\n",
        "from sklearn.model_selection import train_test_split\n",
        "X_train,X_test,y_train,y_test = train_test_split(X,y,test_size=1/3,random_state=42, stratify=y)"
      ]
    },
    {
      "cell_type": "code",
      "execution_count": null,
      "metadata": {
        "_uuid": "a7081050c51df07b8af1cd18c9be61f041a97fb8",
        "id": "_LPpOB2mZN9J"
      },
      "outputs": [],
      "source": [
        "from sklearn.neighbors import KNeighborsClassifier\n",
        "\n",
        "\n",
        "test_scores = []\n",
        "train_scores = []\n",
        "\n",
        "for i in range(1,15):\n",
        "\n",
        "    knn = KNeighborsClassifier(i)\n",
        "    knn.fit(X_train,y_train)\n",
        "    \n",
        "    train_scores.append(knn.score(X_train,y_train))\n",
        "    test_scores.append(knn.score(X_test,y_test))"
      ]
    },
    {
      "cell_type": "code",
      "execution_count": null,
      "metadata": {
        "_uuid": "ee126a72ca24e54ee78bfac94a21dfac1a3edee1",
        "id": "AnM2H5HwZN9K",
        "outputId": "6dc90feb-f750-4a4e-e51f-b5ff219b37df"
      },
      "outputs": [],
      "source": [
        "## score that comes from testing on the same datapoints that were used for training\n",
        "max_train_score = max(train_scores)\n",
        "train_scores_ind = [i for i, v in enumerate(train_scores) if v == max_train_score]\n",
        "print('Max train score {} % and k = {}'.format(max_train_score*100,list(map(lambda x: x+1, train_scores_ind))))"
      ]
    },
    {
      "cell_type": "code",
      "execution_count": null,
      "metadata": {
        "_uuid": "8bbfda9d066c354f974dcb1180c3348aaa915c4e",
        "id": "EGCWZ4gAZN9K",
        "outputId": "64287ca8-ea65-4ddf-8be1-a35f8c8df06c"
      },
      "outputs": [],
      "source": [
        "## score that comes from testing on the datapoints that were split in the beginning to be used for testing solely\n",
        "max_test_score = max(test_scores)\n",
        "test_scores_ind = [i for i, v in enumerate(test_scores) if v == max_test_score]\n",
        "print('Max test score {} % and k = {}'.format(max_test_score*100,list(map(lambda x: x+1, test_scores_ind))))"
      ]
    },
    {
      "cell_type": "markdown",
      "metadata": {
        "_uuid": "fe08768381ea8011d90ae58149c8e41b0a707da2",
        "id": "NayYzWVPZN9L"
      },
      "source": [
        "## Result Visualisation"
      ]
    },
    {
      "cell_type": "code",
      "execution_count": null,
      "metadata": {
        "_uuid": "2a5c0b4fde15148a049fa340a58f5b4fa421e614",
        "id": "hN-JXyf8ZN9L",
        "outputId": "c066c798-7932-47fc-b98d-e638c575b3f7"
      },
      "outputs": [],
      "source": [
        "plt.figure(figsize=(12,5))\n",
        "p = sns.lineplot(range(1,15),marker='*',label='Train Score')\n",
        "p = sns.lineplot(range(1,15),marker='o',label='Test Score')"
      ]
    },
    {
      "cell_type": "markdown",
      "metadata": {
        "_uuid": "1db31455aba31edc524091fa0914743a284034c5",
        "id": "9rx4Eh96ZN9L"
      },
      "source": [
        "#### The best result is captured at k = 11 hence 11 is used for the final model"
      ]
    },
    {
      "cell_type": "code",
      "execution_count": null,
      "metadata": {
        "_uuid": "277c1bb9c48cca13536ac8ba71604818d323fae0",
        "id": "DY04Yw70ZN9M",
        "outputId": "10488055-0394-47b9-82ba-c4324687ba0b"
      },
      "outputs": [],
      "source": [
        "#Setup a knn classifier with k neighbors\n",
        "knn = KNeighborsClassifier(11)\n",
        "\n",
        "knn.fit(X_train,y_train)\n",
        "knn.score(X_test,y_test)"
      ]
    },
    {
      "cell_type": "code",
      "execution_count": null,
      "metadata": {
        "_uuid": "22878f26662e0a863c48cf43030c9e6ab57d98fc",
        "id": "WSjPT-5_ZN9M"
      },
      "outputs": [],
      "source": [
        "## trying to plot decision boundary "
      ]
    },
    {
      "cell_type": "code",
      "execution_count": null,
      "metadata": {
        "_uuid": "e67d02ae6dbab28b27cfbd968d3717e406de53bf",
        "id": "5wQqP5YFZN9M",
        "outputId": "ef8183f6-a624-49d1-e18a-500ad5377e2b"
      },
      "outputs": [],
      "source": [
        "value = 20000\n",
        "width = 20000\n",
        "plot_decision_regions(X.values, y.values, clf=knn, legend=2, \n",
        "                      filler_feature_values={2: value, 3: value, 4: value, 5: value, 6: value, 7: value},\n",
        "                      filler_feature_ranges={2: width, 3: width, 4: width, 5: width, 6: width, 7: width},\n",
        "                      X_highlight=X_test.values)\n",
        "\n",
        "# Adding axes annotations\n",
        "#plt.xlabel('sepal length [cm]')\n",
        "#plt.ylabel('petal length [cm]')\n",
        "plt.title('KNN with Diabetes Data')\n",
        "plt.show()"
      ]
    },
    {
      "cell_type": "code",
      "execution_count": null,
      "metadata": {
        "_uuid": "d09044f60af8405e7334c2062404336d0849e871",
        "id": "9nhCeZhQZN9N",
        "outputId": "bbe33d1d-45ad-4b9e-fdb1-7290f9084251"
      },
      "outputs": [],
      "source": [
        "#import confusion_matrix\n",
        "from sklearn.metrics import confusion_matrix\n",
        "#let us get the predictions using the classifier we had fit above\n",
        "y_pred = knn.predict(X_test)\n",
        "confusion_matrix(y_test,y_pred)\n",
        "pd.crosstab(y_test, y_pred, rownames=['True'], colnames=['Predicted'], margins=True)"
      ]
    },
    {
      "cell_type": "code",
      "execution_count": null,
      "metadata": {
        "_uuid": "cb0b2fc2a33afeed856e2b3cc986ffb9e3e3ae7b",
        "id": "K2g2Km1tZN9O",
        "outputId": "0ebddd54-b8ca-4360-d986-03a470a8c473"
      },
      "outputs": [],
      "source": [
        "y_pred = knn.predict(X_test)\n",
        "from sklearn import metrics\n",
        "cnf_matrix = metrics.confusion_matrix(y_test, y_pred)\n",
        "p = sns.heatmap(pd.DataFrame(cnf_matrix), annot=True, cmap=\"YlGnBu\" ,fmt='g')\n",
        "plt.title('Confusion matrix', y=1.1)\n",
        "plt.ylabel('Actual label')\n",
        "plt.xlabel('Predicted label')"
      ]
    },
    {
      "cell_type": "code",
      "execution_count": null,
      "metadata": {
        "_uuid": "6ac998149c1f0dd304b807707f0dc44dd2b2ffb3",
        "id": "FmTlZYZUZN9P",
        "outputId": "2d949cba-b7ea-4e86-ead2-aa6c3329da79"
      },
      "outputs": [],
      "source": [
        "#import classification_report\n",
        "from sklearn.metrics import classification_report\n",
        "print(classification_report(y_test,y_pred))"
      ]
    },
    {
      "cell_type": "code",
      "execution_count": null,
      "metadata": {
        "_uuid": "20b2083d2eaf2fca599eb6f2ef8803be0b1ac5d7",
        "id": "p157iYfTZN9Q"
      },
      "outputs": [],
      "source": [
        "from sklearn.metrics import roc_curve\n",
        "y_pred_proba = knn.predict_proba(X_test)[:,1]\n",
        "fpr, tpr, thresholds = roc_curve(y_test, y_pred_proba)"
      ]
    },
    {
      "cell_type": "code",
      "execution_count": null,
      "metadata": {
        "_uuid": "379eefad0181f1f57ffbb3634ab6d132af17464f",
        "id": "KjFY0ktZZN9Q",
        "outputId": "6741103f-eccf-42d9-9f7b-d97dc2833a3a"
      },
      "outputs": [],
      "source": [
        "plt.plot([0,1],[0,1],'k--')\n",
        "plt.plot(fpr,tpr, label='Knn')\n",
        "plt.xlabel('fpr')\n",
        "plt.ylabel('tpr')\n",
        "plt.title('Knn(n_neighbors=11) ROC curve')\n",
        "plt.show()"
      ]
    },
    {
      "cell_type": "code",
      "execution_count": null,
      "metadata": {
        "_uuid": "6c92773e49532f6133b23d511058202bb77ff2cd",
        "id": "2lTG9o-sZN9Q",
        "outputId": "94412ae4-e901-4cfc-c27f-f2f07dee6df0"
      },
      "outputs": [],
      "source": [
        "#Area under ROC curve\n",
        "from sklearn.metrics import roc_auc_score\n",
        "roc_auc_score(y_test,y_pred_proba)"
      ]
    },
    {
      "cell_type": "code",
      "execution_count": null,
      "metadata": {
        "_uuid": "e369c794253b71d3daa1444fb7d11872fb8a110c",
        "id": "CxwIidoKZN9S",
        "outputId": "ad81a43e-83f3-487e-a0f0-801afb6acbc2"
      },
      "outputs": [],
      "source": [
        "#import GridSearchCV\n",
        "from sklearn.model_selection import GridSearchCV\n",
        "#In case of classifier like knn the parameter to be tuned is n_neighbors\n",
        "param_grid = {'n_neighbors':np.arange(1,50)}\n",
        "knn = KNeighborsClassifier()\n",
        "knn_cv= GridSearchCV(knn,param_grid,cv=5)\n",
        "knn_cv.fit(X,y)\n",
        "\n",
        "print(\"Best Score:\" + str(knn_cv.best_score_))\n",
        "print(\"Best Parameters: \" + str(knn_cv.best_params_))"
      ]
    }
  ],
  "metadata": {
    "colab": {
      "provenance": []
    },
    "kernelspec": {
      "display_name": "Python 3.10.0 64-bit",
      "language": "python",
      "name": "python3"
    },
    "language_info": {
      "codemirror_mode": {
        "name": "ipython",
        "version": 3
      },
      "file_extension": ".py",
      "mimetype": "text/x-python",
      "name": "python",
      "nbconvert_exporter": "python",
      "pygments_lexer": "ipython3",
      "version": "3.10.0"
    },
    "vscode": {
      "interpreter": {
        "hash": "369f2c481f4da34e4445cda3fffd2e751bd1c4d706f27375911949ba6bb62e1c"
      }
    }
  },
  "nbformat": 4,
  "nbformat_minor": 0
}
